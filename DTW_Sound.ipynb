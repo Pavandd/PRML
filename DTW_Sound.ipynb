{
 "cells": [
  {
   "cell_type": "code",
   "execution_count": 1,
   "id": "03aa6409",
   "metadata": {},
   "outputs": [],
   "source": [
    "import numpy as np\n",
    "import pandas as pd\n",
    "from tqdm import tqdm\n",
    "import matplotlib.pyplot as plt\n",
    "from os import listdir\n",
    "from sklearn.metrics import det_curve"
   ]
  },
  {
   "cell_type": "code",
   "execution_count": 9,
   "id": "b36c8dfe",
   "metadata": {},
   "outputs": [],
   "source": [
    "train = []\n",
    "dev = []\n",
    "dire = 'D:/College/PRML/Assgn 3/DTW/Sound/'\n",
    "for path in ['3', '5', '8', '9', 'o']:\n",
    "    files = listdir(dire+path+'/train')\n",
    "    temp = []\n",
    "    for file in files:\n",
    "        if file[-4:] == 'mfcc':\n",
    "            l = []\n",
    "            i = 0\n",
    "            for line in open(dire+path+'/train/'+file).readlines():\n",
    "                if i==0:\n",
    "                    i += 1\n",
    "                    continue                \n",
    "                l.append(line.split())\n",
    "                i += 1\n",
    "            temp.append(np.array(l, dtype=np.float64))\n",
    "    train.append(temp)\n",
    "    \n",
    "for path in ['3', '5', '8', '9', 'o']:\n",
    "    files = listdir(dire+path+'/dev')\n",
    "    temp = []\n",
    "    for file in files:\n",
    "        if file[-4:] == 'mfcc':\n",
    "            l = []\n",
    "            i = 0\n",
    "            for line in open(dire+path+'/dev/'+file).readlines():\n",
    "                if i==0:\n",
    "                    i += 1\n",
    "                    continue                \n",
    "                l.append(line.split())\n",
    "                i += 1\n",
    "            temp.append(np.array(l, dtype=np.float64))\n",
    "    dev.append(temp)"
   ]
  },
  {
   "cell_type": "code",
   "execution_count": 8,
   "id": "583b5f85",
   "metadata": {},
   "outputs": [
    {
     "data": {
      "text/plain": [
       "array([[-2.907248  , -2.489038  ,  0.4477482 , ...,  0.1881245 ,\n",
       "         0.09903693,  0.2012774 ],\n",
       "       [-3.320479  , -2.901215  , -0.5612812 , ...,  0.1637295 ,\n",
       "         0.1027453 ,  0.1131358 ],\n",
       "       [-3.057733  , -3.511534  , -0.475153  , ...,  0.07195882,\n",
       "         0.1277423 ,  0.07814889],\n",
       "       ...,\n",
       "       [-2.384042  , -3.653849  , -1.354536  , ...,  0.00638086,\n",
       "         0.06744456,  0.03511511],\n",
       "       [-3.638531  , -2.060457  , -0.1351986 , ..., -0.03885906,\n",
       "         0.07153434, -0.03284477],\n",
       "       [-3.443068  , -2.954859  , -0.04419899, ..., -0.1141912 ,\n",
       "         0.03965587, -0.04125351]])"
      ]
     },
     "execution_count": 8,
     "metadata": {},
     "output_type": "execute_result"
    }
   ],
   "source": [
    "train[0][0]"
   ]
  },
  {
   "cell_type": "code",
   "execution_count": 12,
   "id": "ba1b0cb2",
   "metadata": {},
   "outputs": [],
   "source": [
    "def dtw(A, B, window=50):\n",
    "    n, m = A.shape[0], B.shape[0]\n",
    "    w = max(window, abs(n-m))\n",
    "    dtw_matrix = np.zeros((n+1, m+1))\n",
    "    \n",
    "    for i in range(n+1):\n",
    "        for j in range(m+1):\n",
    "            dtw_matrix[i, j] = np.inf\n",
    "    dtw_matrix[0, 0] = 0.0\n",
    "    \n",
    "    for i in range(1, n+1):\n",
    "        for j in range(np.max([1, i-w]), np.min([m, i+w])+1):\n",
    "            dtw_matrix[i, j] = 0.0\n",
    "    \n",
    "    for i in range(1, n+1):\n",
    "        for j in range(np.max([1, i-w]), np.min([m, i+w])+1):\n",
    "            cost = np.linalg.norm(A[i-1] - B[j-1])\n",
    "            # take last min from a square box\n",
    "            last_min = np.min([dtw_matrix[i-1, j], dtw_matrix[i, j-1], dtw_matrix[i-1, j-1]])\n",
    "            dtw_matrix[i, j] = cost + last_min\n",
    "            \n",
    "    return dtw_matrix[n, m]"
   ]
  },
  {
   "cell_type": "code",
   "execution_count": 14,
   "id": "bf862911",
   "metadata": {},
   "outputs": [
    {
     "data": {
      "text/plain": [
       "722.2554269902073"
      ]
     },
     "execution_count": 14,
     "metadata": {},
     "output_type": "execute_result"
    }
   ],
   "source": [
    "dtw(train[2][1] , train[1][2])"
   ]
  },
  {
   "cell_type": "code",
   "execution_count": 36,
   "id": "9f845fff",
   "metadata": {},
   "outputs": [
    {
     "name": "stderr",
     "output_type": "stream",
     "text": [
      "100%|████████████████████████████████████████████████████████████████████████████| 11700/11700 [32:29<00:00,  6.00it/s]\n"
     ]
    }
   ],
   "source": [
    "predictions = []\n",
    "probabilities = []\n",
    "with tqdm(total = 5*39*5*12) as pbar:\n",
    "    for i in tqdm(range(5), disable=True):\n",
    "        for j in tqdm(range(len(dev[i])), disable=True):\n",
    "            distances = []\n",
    "            temp = []\n",
    "            for p in tqdm(range(5), disable=True):            \n",
    "                scores = []\n",
    "                for q in tqdm(range(len(train[p])), disable=True):\n",
    "                    score = dtw(train[p][q], dev[i][j])\n",
    "                    scores.append(score)\n",
    "                    pbar.update(1)\n",
    "                distances.append(sum(sorted(scores)[:10]))\n",
    "                temp.append(1/distances[p])\n",
    "            probabilities.append(temp)\n",
    "            predictions.append(distances.index(min(distances)))"
   ]
  },
  {
   "cell_type": "code",
   "execution_count": 37,
   "id": "f0fe00c3",
   "metadata": {},
   "outputs": [],
   "source": [
    "store = list(probabilities)"
   ]
  },
  {
   "cell_type": "code",
   "execution_count": 49,
   "id": "e9d78dd0",
   "metadata": {},
   "outputs": [],
   "source": [
    "for i in range(12*5):\n",
    "    summ = 0\n",
    "    for j in range(5):\n",
    "        summ += probabilities[i][j]\n",
    "    for j in range(5):\n",
    "        probabilities[i][j] /= summ"
   ]
  },
  {
   "cell_type": "code",
   "execution_count": 40,
   "id": "7a83cf0a",
   "metadata": {},
   "outputs": [],
   "source": [
    "def ROC(probabilities, C, n_classes, Actual):\n",
    "    n = len(probabilities)\n",
    "    S = [[probabilities[i][j]* C[j] for j in range (n_classes)] for i in range(n)]\n",
    "    TPR = []; FPR = []\n",
    "\n",
    "    for threshold in np.linspace(np.min(S), np.max(S), 1000):\n",
    "        TP = FP = TN = FN = 0.0\n",
    "\n",
    "        for i in range (n):\n",
    "\n",
    "            for j in range (n_classes):\n",
    "\n",
    "                if(S[i][j] >= threshold):\n",
    "\n",
    "                    if Actual[i] == j:\n",
    "\n",
    "                        TP += 1\n",
    "\n",
    "                    else:\n",
    "\n",
    "                        FP += 1\n",
    "\n",
    "                else:\n",
    "\n",
    "                    if Actual[i] == j:\n",
    "\n",
    "                        FN += 1\n",
    "\n",
    "                    else:\n",
    "\n",
    "                        TN += 1\n",
    "\n",
    "        TPR.append(TP/(TP + FN))\n",
    "\n",
    "        FPR.append (FP/(FP+ TN))\n",
    "\n",
    "    FPR, TPR = zip(*sorted (zip (FPR, TPR)))\n",
    "    plt.plot (FPR, TPR)\n",
    "    return np.trapz (TPR, FPR)"
   ]
  },
  {
   "cell_type": "code",
   "execution_count": 51,
   "id": "d9199912",
   "metadata": {},
   "outputs": [
    {
     "data": {
      "text/plain": [
       "0.9926736111111111"
      ]
     },
     "execution_count": 51,
     "metadata": {},
     "output_type": "execute_result"
    },
    {
     "data": {
      "image/png": "[encoded data removed]",
      "text/plain": [
       "<Figure size 432x288 with 1 Axes>"
      ]
     },
     "metadata": {
      "needs_background": "light"
     },
     "output_type": "display_data"
    }
   ],
   "source": [
    "Actual = []\n",
    "for i in range(5):\n",
    "    Actual += [i]*12\n",
    "ROC(probabilities, [0.2,0.2,0.2,0.2,0.2], 5, Actual)"
   ]
  },
  {
   "cell_type": "code",
   "execution_count": 52,
   "id": "0b90ad1f",
   "metadata": {},
   "outputs": [
    {
     "data": {
      "text/html": [
       "<div>\n",
       "<style scoped>\n",
       "    .dataframe tbody tr th:only-of-type {\n",
       "        vertical-align: middle;\n",
       "    }\n",
       "\n",
       "    .dataframe tbody tr th {\n",
       "        vertical-align: top;\n",
       "    }\n",
       "\n",
       "    .dataframe thead th {\n",
       "        text-align: right;\n",
       "    }\n",
       "</style>\n",
       "<table border=\"1\" class=\"dataframe\">\n",
       "  <thead>\n",
       "    <tr style=\"text-align: right;\">\n",
       "      <th>col_0</th>\n",
       "      <th>0</th>\n",
       "      <th>1</th>\n",
       "      <th>2</th>\n",
       "      <th>3</th>\n",
       "      <th>4</th>\n",
       "    </tr>\n",
       "    <tr>\n",
       "      <th>row_0</th>\n",
       "      <th></th>\n",
       "      <th></th>\n",
       "      <th></th>\n",
       "      <th></th>\n",
       "      <th></th>\n",
       "    </tr>\n",
       "  </thead>\n",
       "  <tbody>\n",
       "    <tr>\n",
       "      <th>0</th>\n",
       "      <td>11</td>\n",
       "      <td>0</td>\n",
       "      <td>1</td>\n",
       "      <td>0</td>\n",
       "      <td>0</td>\n",
       "    </tr>\n",
       "    <tr>\n",
       "      <th>1</th>\n",
       "      <td>0</td>\n",
       "      <td>11</td>\n",
       "      <td>0</td>\n",
       "      <td>0</td>\n",
       "      <td>1</td>\n",
       "    </tr>\n",
       "    <tr>\n",
       "      <th>2</th>\n",
       "      <td>0</td>\n",
       "      <td>0</td>\n",
       "      <td>12</td>\n",
       "      <td>0</td>\n",
       "      <td>0</td>\n",
       "    </tr>\n",
       "    <tr>\n",
       "      <th>3</th>\n",
       "      <td>0</td>\n",
       "      <td>0</td>\n",
       "      <td>0</td>\n",
       "      <td>11</td>\n",
       "      <td>1</td>\n",
       "    </tr>\n",
       "    <tr>\n",
       "      <th>4</th>\n",
       "      <td>0</td>\n",
       "      <td>0</td>\n",
       "      <td>0</td>\n",
       "      <td>0</td>\n",
       "      <td>12</td>\n",
       "    </tr>\n",
       "  </tbody>\n",
       "</table>\n",
       "</div>"
      ],
      "text/plain": [
       "col_0   0   1   2   3   4\n",
       "row_0                    \n",
       "0      11   0   1   0   0\n",
       "1       0  11   0   0   1\n",
       "2       0   0  12   0   0\n",
       "3       0   0   0  11   1\n",
       "4       0   0   0   0  12"
      ]
     },
     "execution_count": 52,
     "metadata": {},
     "output_type": "execute_result"
    }
   ],
   "source": [
    "df_confusion = pd.crosstab(np.array(Actual), np.array(predictions))#, rownames=['Actual'], colnames=['Predicted'])\n",
    "df_confusion"
   ]
  },
  {
   "cell_type": "code",
   "execution_count": 55,
   "id": "5fc7be85",
   "metadata": {},
   "outputs": [
    {
     "name": "stdout",
     "output_type": "stream",
     "text": [
      "Accuracy:  0.95\n"
     ]
    }
   ],
   "source": [
    "count_correct = 0\n",
    "total = 0\n",
    "total = len(predictions)\n",
    "for i in range(12*5):\n",
    "    if predictions[i] == Actual[i]:\n",
    "        count_correct += 1\n",
    "print('Accuracy: ', count_correct/total)"
   ]
  },
  {
   "cell_type": "code",
   "execution_count": null,
   "id": "01d227d3",
   "metadata": {},
   "outputs": [],
   "source": []
  }
 ],
 "metadata": {
  "kernelspec": {
   "display_name": "Python 3 (ipykernel)",
   "language": "python",
   "name": "python3"
  },
  "language_info": {
   "codemirror_mode": {
    "name": "ipython",
    "version": 3
   },
   "file_extension": ".py",
   "mimetype": "text/x-python",
   "name": "python",
   "nbconvert_exporter": "python",
   "pygments_lexer": "ipython3",
   "version": "3.8.8"
  }
 },
 "nbformat": 4,
 "nbformat_minor": 5
}
