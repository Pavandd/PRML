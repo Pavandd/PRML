{
 "cells": [
  {
   "cell_type": "code",
   "execution_count": 1,
   "id": "a70a1ee3",
   "metadata": {},
   "outputs": [],
   "source": [
    "import numpy as np\n",
    "import pandas as pd\n",
    "from tqdm import tqdm\n",
    "import matplotlib.pyplot as plt\n",
    "from os import listdir"
   ]
  },
  {
   "cell_type": "code",
   "execution_count": 81,
   "id": "18106149",
   "metadata": {},
   "outputs": [],
   "source": [
    "train = []\n",
    "dev = []\n",
    "dire = 'D:/College/PRML/Assgn 3/DTW/Hand Written/'\n",
    "for path in ['bA', 'chA', 'dA', 'lA', 'tA']:\n",
    "    files = listdir(dire+path+'/train')\n",
    "    temp = []\n",
    "    for file in files:\n",
    "        x = []; y = []; i = 0\n",
    "        for n in open(dire+path+'/train/'+file).readlines()[0].split()[1:]:\n",
    "            if i%2==0:\n",
    "                x.append(n)\n",
    "            else:\n",
    "                y.append(n)\n",
    "            i += 1\n",
    "        temp.append(np.array([x,y], dtype='float64'))\n",
    "    train.append(temp)\n",
    "    \n",
    "for path in ['bA', 'chA', 'dA', 'lA', 'tA']:\n",
    "    files = listdir(dire+path+'/dev')\n",
    "    temp = []\n",
    "    for file in files:\n",
    "        x = []; y = []; i = 0\n",
    "        for n in open(dire+path+'/dev/'+file).readlines()[0].split()[1:]:\n",
    "            if i%2==0:\n",
    "                x.append(n)\n",
    "            else:\n",
    "                y.append(n)\n",
    "            i += 1\n",
    "        temp.append(np.array([x,y], dtype='float64'))\n",
    "    dev.append(temp)"
   ]
  },
  {
   "cell_type": "code",
   "execution_count": 82,
   "id": "abe1d645",
   "metadata": {},
   "outputs": [
    {
     "name": "stderr",
     "output_type": "stream",
     "text": [
      "C:\\Users\\PAVAN\\AppData\\Local\\Temp/ipykernel_30516/2999808710.py:9: RuntimeWarning: divide by zero encountered in true_divide\n",
      "  temp.append(np.nan_to_num(np.arctan(A[1]/A[0]), nan=k))\n",
      "C:\\Users\\PAVAN\\AppData\\Local\\Temp/ipykernel_30516/2999808710.py:15: RuntimeWarning: divide by zero encountered in true_divide\n",
      "  temp.append(np.nan_to_num(np.arctan(A[1]/A[0]), nan=k))\n"
     ]
    }
   ],
   "source": [
    "# Slopes\n",
    "k = np.pi/2\n",
    "X_train = []\n",
    "X_dev = []\n",
    "for i in range(5):\n",
    "    temp = []\n",
    "    for j in range(len(train[i])):\n",
    "        A = np.diff(train[i][j])\n",
    "        temp.append(np.nan_to_num(np.arctan(A[1]/A[0]), nan=k))\n",
    "    X_train.append(temp)\n",
    "    \n",
    "    temp = []\n",
    "    for j in range(len(dev[i])):\n",
    "        A = np.diff(dev[i][j])\n",
    "        temp.append(np.nan_to_num(np.arctan(A[1]/A[0]), nan=k))          \n",
    "    X_dev.append(temp)"
   ]
  },
  {
   "cell_type": "code",
   "execution_count": 83,
   "id": "50d1eef0",
   "metadata": {
    "scrolled": true
   },
   "outputs": [
    {
     "data": {
      "text/plain": [
       "array([ 1.57079633,  1.57079633,  1.57079633,  1.10711852,  0.46367781,\n",
       "        0.32173545,  0.        ,  0.        ,  0.        , -1.57079633,\n",
       "       -1.57079633, -1.57079633, -1.57079633,  1.42891135,  1.10711852,\n",
       "        1.24906087, -1.57079633,  1.10711852, -1.57079633, -0.78539816,\n",
       "        0.        ,  0.46367781,  0.78532266,  0.78547366,  1.3257999 ,\n",
       "        1.57079633,  1.10717892,  1.57079633,  1.10711852,  1.57079633,\n",
       "       -0.78547366, -1.57079633, -1.10714872, -1.10711852, -1.57079633,\n",
       "       -1.10717892, -0.78539816,  0.        , -0.78532266,  0.        ,\n",
       "        0.        ,  0.        ,  1.57079633,  1.3257999 ,  1.57079633,\n",
       "        1.57079633,  1.57079633,  1.10717892,  1.57079633,  1.57079633,\n",
       "       -0.78547366, -0.78532266,  1.57079633, -0.78539816, -0.        ,\n",
       "        0.        ,  0.        ,  0.        , -0.32173545, -0.12436429,\n",
       "       -0.32172035, -0.32178075, -0.321743  , -0.78539816, -1.57079633,\n",
       "        0.78539816,  0.46361741, -0.        , -0.        , -0.        ,\n",
       "        1.24906087,  1.57079633,  1.57079633,  0.78532266])"
      ]
     },
     "execution_count": 83,
     "metadata": {},
     "output_type": "execute_result"
    }
   ],
   "source": [
    "X_train[0][0]"
   ]
  },
  {
   "cell_type": "code",
   "execution_count": 74,
   "id": "f6c2e588",
   "metadata": {},
   "outputs": [],
   "source": [
    "def dtw(A, B, window=10):\n",
    "    n, m = A.shape[0], B.shape[0]\n",
    "    w = np.max([window, abs(n-m)])\n",
    "    dtw_matrix = np.zeros((n+1, m+1))\n",
    "    \n",
    "    for i in range(n+1):\n",
    "        for j in range(m+1):\n",
    "            dtw_matrix[i, j] = np.inf\n",
    "    dtw_matrix[0, 0] = 0.0\n",
    "    \n",
    "    for i in range(1, n+1):\n",
    "        for j in range(np.max([1, i-w]), np.min([m, i+w])+1):\n",
    "            dtw_matrix[i, j] = 0.0\n",
    "    \n",
    "    for i in range(1, n+1):\n",
    "        for j in range(np.max([1, i-w]), np.min([m, i+w])+1):\n",
    "            cost = abs(A[i-1] - B[j-1])\n",
    "            # take last min from a square box\n",
    "            last_min = np.min([dtw_matrix[i-1, j], dtw_matrix[i, j-1], dtw_matrix[i-1, j-1]])\n",
    "            dtw_matrix[i, j] = cost + last_min\n",
    "            \n",
    "    return dtw_matrix[n, m]"
   ]
  },
  {
   "cell_type": "code",
   "execution_count": 7,
   "id": "0091efdb",
   "metadata": {},
   "outputs": [],
   "source": [
    "# def dtw2(s, t, window=10):\n",
    "#     n, m = s.shape[0], t.shape[0]\n",
    "#     w = max(window, abs(n-m))\n",
    "#     dtw_matrix = [[0.0]*(m+1)]*(n+1)\n",
    "    \n",
    "#     for i in range(n+1):\n",
    "#         for j in range(m+1):\n",
    "#             dtw_matrix[i][j] = float('inf')\n",
    "#     dtw_matrix[0][0] = 0.0\n",
    "    \n",
    "#     for i in range(1, n+1):\n",
    "#         for j in range(max(1, i-w), min(m, i+w)+1):\n",
    "#             dtw_matrix[i][j] = 0.0\n",
    "    \n",
    "#     for i in range(1, n+1):\n",
    "#         for j in range(max(1, i-w), min(m, i+w)+1):\n",
    "#             cost = abs(s[i-1] - t[j-1])\n",
    "#             # take last min from a square box\n",
    "#             last_min = min(dtw_matrix[i-1][j], dtw_matrix[i][j-1], dtw_matrix[i-1][j-1])\n",
    "#             dtw_matrix[i][j] = cost + last_min\n",
    "#     return dtw_matrix[n][m]"
   ]
  },
  {
   "cell_type": "code",
   "execution_count": 84,
   "id": "f992fb98",
   "metadata": {},
   "outputs": [
    {
     "data": {
      "text/plain": [
       "30.141601948843256"
      ]
     },
     "execution_count": 84,
     "metadata": {},
     "output_type": "execute_result"
    }
   ],
   "source": [
    "dtw(X_train[0][0], X_dev[0][0])"
   ]
  },
  {
   "cell_type": "code",
   "execution_count": null,
   "id": "56089eec",
   "metadata": {},
   "outputs": [],
   "source": [
    "predictions = []\n",
    "probabilities = []\n",
    "with tqdm(total = 343*5*20) as pbar:\n",
    "    for i in tqdm(range(5), disable=True):\n",
    "        for j in tqdm(range(len(dev[i])), disable=True):\n",
    "            distances = []\n",
    "            temp = []\n",
    "            for p in tqdm(range(5), disable=True):            \n",
    "                scores = []\n",
    "                for q in tqdm(range(len(train[p])), disable=True):\n",
    "                    score = dtw(train[p][q], dev[i][j])\n",
    "                    scores.append(score)\n",
    "                    pbar.update(1)\n",
    "                distances.append(sum(sorted(scores)[:10]))\n",
    "                temp.append(1/distances[p])\n",
    "            probabilities.append(temp)\n",
    "            predictions.append(distances.index(min(distances)))"
   ]
  },
  {
   "cell_type": "code",
   "execution_count": 97,
   "id": "05a0fa52",
   "metadata": {},
   "outputs": [],
   "source": [
    "for i in range(20*5):\n",
    "    summ = 0\n",
    "    for j in range(5):\n",
    "        summ += probabilities[i][j]\n",
    "    for j in range(5):\n",
    "        probabilities[i][j] /= summ"
   ]
  },
  {
   "cell_type": "code",
   "execution_count": null,
   "id": "6b556c9e",
   "metadata": {},
   "outputs": [],
   "source": [
    "count_correct = 0\n",
    "total = 0\n",
    "for i in range(5):\n",
    "    total += len(predictions[i])\n",
    "    for j in predictions[i]:\n",
    "        if j == i:\n",
    "            count_correct += 1\n",
    "print('Accuracy: ', count_correct/total)        "
   ]
  },
  {
   "cell_type": "code",
   "execution_count": 101,
   "id": "e29b680a",
   "metadata": {},
   "outputs": [],
   "source": [
    "def ROC(probabilities, C, n_classes, Actual):\n",
    "    probabilities = np.array(probabilities)\n",
    "    n = probabilities.shape[0]\n",
    "    S = pd.DataFrame()\n",
    "    for j in range(n_classes):\n",
    "        S[j] = probabilities[:, j] * C[j]\n",
    "    S = S.to_numpy()\n",
    "    TPR = []; FPR = []\n",
    "\n",
    "    for threshold in np.linspace(S.min(), S.max(), 1000):\n",
    "        TP = FP = TN = FN = 0.0\n",
    "\n",
    "        for i in range (n):\n",
    "            for j in range (n_classes):\n",
    "                if(S[i,j] >= threshold):\n",
    "                    if Actual[i] == j:\n",
    "                        TP += 1\n",
    "                    else:\n",
    "                        FP += 1\n",
    "\n",
    "                else:\n",
    "                    if Actual[i] == j:\n",
    "                        FN += 1\n",
    "                    else:\n",
    "                        TN += 1\n",
    "\n",
    "        TPR.append(TP/(TP + FN))\n",
    "        FPR.append (FP/(FP+ TN))\n",
    "\n",
    "    FPR, TPR = zip(*sorted (zip (FPR, TPR)))\n",
    "    plt.plot (FPR, TPR)\n",
    "    return np.trapz (TPR, FPR)"
   ]
  },
  {
   "cell_type": "code",
   "execution_count": 108,
   "id": "8953bf28",
   "metadata": {},
   "outputs": [],
   "source": [
    "Actual = []\n",
    "for i in range(5):\n",
    "    Actual += [i]*20"
   ]
  },
  {
   "cell_type": "code",
   "execution_count": 109,
   "id": "6ad7d895",
   "metadata": {},
   "outputs": [
    {
     "data": {
      "text/plain": [
       "0.8700125000000001"
      ]
     },
     "execution_count": 109,
     "metadata": {},
     "output_type": "execute_result"
    },
    {
     "data": {
      "image/png": "[encoded data removed]",
      "text/plain": [
       "<Figure size 432x288 with 1 Axes>"
      ]
     },
     "metadata": {
      "needs_background": "light"
     },
     "output_type": "display_data"
    }
   ],
   "source": [
    "ROC(probabilities, [0.2,0.2,0.2,0.2,0.2], 5, Actual)"
   ]
  },
  {
   "cell_type": "code",
   "execution_count": 116,
   "id": "d9b3ea65",
   "metadata": {},
   "outputs": [],
   "source": [
    "df_confusion = pd.crosstab(np.array(Actual), np.array(predictions))#, rownames=['Actual'], colnames=['Predicted'])"
   ]
  },
  {
   "cell_type": "code",
   "execution_count": 117,
   "id": "dce6c191",
   "metadata": {},
   "outputs": [
    {
     "data": {
      "text/html": [
       "<div>\n",
       "<style scoped>\n",
       "    .dataframe tbody tr th:only-of-type {\n",
       "        vertical-align: middle;\n",
       "    }\n",
       "\n",
       "    .dataframe tbody tr th {\n",
       "        vertical-align: top;\n",
       "    }\n",
       "\n",
       "    .dataframe thead th {\n",
       "        text-align: right;\n",
       "    }\n",
       "</style>\n",
       "<table border=\"1\" class=\"dataframe\">\n",
       "  <thead>\n",
       "    <tr style=\"text-align: right;\">\n",
       "      <th>col_0</th>\n",
       "      <th>0</th>\n",
       "      <th>1</th>\n",
       "      <th>2</th>\n",
       "      <th>3</th>\n",
       "      <th>4</th>\n",
       "    </tr>\n",
       "    <tr>\n",
       "      <th>row_0</th>\n",
       "      <th></th>\n",
       "      <th></th>\n",
       "      <th></th>\n",
       "      <th></th>\n",
       "      <th></th>\n",
       "    </tr>\n",
       "  </thead>\n",
       "  <tbody>\n",
       "    <tr>\n",
       "      <th>0</th>\n",
       "      <td>6</td>\n",
       "      <td>5</td>\n",
       "      <td>0</td>\n",
       "      <td>9</td>\n",
       "      <td>0</td>\n",
       "    </tr>\n",
       "    <tr>\n",
       "      <th>1</th>\n",
       "      <td>5</td>\n",
       "      <td>15</td>\n",
       "      <td>0</td>\n",
       "      <td>0</td>\n",
       "      <td>0</td>\n",
       "    </tr>\n",
       "    <tr>\n",
       "      <th>2</th>\n",
       "      <td>0</td>\n",
       "      <td>2</td>\n",
       "      <td>16</td>\n",
       "      <td>2</td>\n",
       "      <td>0</td>\n",
       "    </tr>\n",
       "    <tr>\n",
       "      <th>3</th>\n",
       "      <td>0</td>\n",
       "      <td>2</td>\n",
       "      <td>1</td>\n",
       "      <td>17</td>\n",
       "      <td>0</td>\n",
       "    </tr>\n",
       "    <tr>\n",
       "      <th>4</th>\n",
       "      <td>1</td>\n",
       "      <td>2</td>\n",
       "      <td>2</td>\n",
       "      <td>5</td>\n",
       "      <td>10</td>\n",
       "    </tr>\n",
       "  </tbody>\n",
       "</table>\n",
       "</div>"
      ],
      "text/plain": [
       "col_0  0   1   2   3   4\n",
       "row_0                   \n",
       "0      6   5   0   9   0\n",
       "1      5  15   0   0   0\n",
       "2      0   2  16   2   0\n",
       "3      0   2   1  17   0\n",
       "4      1   2   2   5  10"
      ]
     },
     "execution_count": 117,
     "metadata": {},
     "output_type": "execute_result"
    }
   ],
   "source": [
    "df_confusion"
   ]
  },
  {
   "cell_type": "code",
   "execution_count": null,
   "id": "1cfece9b",
   "metadata": {},
   "outputs": [],
   "source": []
  }
 ],
 "metadata": {
  "kernelspec": {
   "display_name": "Python 3 (ipykernel)",
   "language": "python",
   "name": "python3"
  },
  "language_info": {
   "codemirror_mode": {
    "name": "ipython",
    "version": 3
   },
   "file_extension": ".py",
   "mimetype": "text/x-python",
   "name": "python",
   "nbconvert_exporter": "python",
   "pygments_lexer": "ipython3",
   "version": "3.8.8"
  }
 },
 "nbformat": 4,
 "nbformat_minor": 5
}
